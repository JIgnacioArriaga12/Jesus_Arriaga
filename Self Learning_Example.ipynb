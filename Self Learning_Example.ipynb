{
 "cells": [
  {
   "cell_type": "code",
   "execution_count": 8,
   "metadata": {},
   "outputs": [],
   "source": [
    "import pandas as pd \n",
    "import numpy as np\n",
    "import plotly_express as px\n",
    "from sklearn.model_selection import train_test_split\n",
    "from sklearn.svm import SVC\n",
    "from sklearn.semi_supervised import SelfTrainingClassifier\n",
    "from sklearn.metrics import classification_report"
   ]
  },
  {
   "cell_type": "code",
   "execution_count": 7,
   "metadata": {},
   "outputs": [
    {
     "data": {
      "text/html": [
       "<div>\n",
       "<style scoped>\n",
       "    .dataframe tbody tr th:only-of-type {\n",
       "        vertical-align: middle;\n",
       "    }\n",
       "\n",
       "    .dataframe tbody tr th {\n",
       "        vertical-align: top;\n",
       "    }\n",
       "\n",
       "    .dataframe thead th {\n",
       "        text-align: right;\n",
       "    }\n",
       "</style>\n",
       "<table border=\"1\" class=\"dataframe\">\n",
       "  <thead>\n",
       "    <tr style=\"text-align: right;\">\n",
       "      <th></th>\n",
       "      <th>idconsulta</th>\n",
       "      <th>bd</th>\n",
       "      <th>edad</th>\n",
       "      <th>estado</th>\n",
       "      <th>age_range</th>\n",
       "      <th>score</th>\n",
       "      <th>nodo</th>\n",
       "      <th>Risk_Code</th>\n",
       "      <th>idcreidit</th>\n",
       "      <th>Solución Original</th>\n",
       "      <th>Observacion</th>\n",
       "      <th>DEPENDIENTES</th>\n",
       "      <th>Codigo Razón 1</th>\n",
       "      <th>delegacionMunicipio</th>\n",
       "      <th>tipoDomicilio</th>\n",
       "      <th>identificadorSociedadInformacionCrediticia</th>\n",
       "      <th>indicadorTipoResponsabilidad</th>\n",
       "      <th>tipoCuenta</th>\n",
       "      <th>tipoContrato</th>\n",
       "      <th>numeroPagos</th>\n",
       "      <th>frecuenciaPagos</th>\n",
       "      <th>cuentasRevolventesAbiertas</th>\n",
       "      <th>cuentasCerradas</th>\n",
       "      <th>cuentasNegativasActuales</th>\n",
       "      <th>cuentasClavesHistoriaNegativa</th>\n",
       "      <th>numeroSolicitudesUltimos6Meses</th>\n",
       "      <th>numeroTotalCuentasDespachoCobranza</th>\n",
       "    </tr>\n",
       "  </thead>\n",
       "  <tbody>\n",
       "    <tr>\n",
       "      <th>0</th>\n",
       "      <td>2550443656</td>\n",
       "      <td>33648</td>\n",
       "      <td>30</td>\n",
       "      <td>EM</td>\n",
       "      <td>2</td>\n",
       "      <td>551</td>\n",
       "      <td>10</td>\n",
       "      <td>Seguir con el proceso Fast Track Monto Máximo ...</td>\n",
       "      <td>990093</td>\n",
       "      <td>Solucion_18</td>\n",
       "      <td>atraso credito</td>\n",
       "      <td>0</td>\n",
       "      <td>15</td>\n",
       "      <td>TULTITLAN</td>\n",
       "      <td>H</td>\n",
       "      <td>1</td>\n",
       "      <td>I</td>\n",
       "      <td>I</td>\n",
       "      <td>PL</td>\n",
       "      <td>1</td>\n",
       "      <td>M</td>\n",
       "      <td>6</td>\n",
       "      <td>89</td>\n",
       "      <td>1</td>\n",
       "      <td>1</td>\n",
       "      <td>54</td>\n",
       "      <td>0</td>\n",
       "    </tr>\n",
       "    <tr>\n",
       "      <th>1</th>\n",
       "      <td>2538689645</td>\n",
       "      <td>25104</td>\n",
       "      <td>54</td>\n",
       "      <td>CHI</td>\n",
       "      <td>5</td>\n",
       "      <td>551</td>\n",
       "      <td>10</td>\n",
       "      <td>Seguir con el proceso Fast Track Monto Máximo ...</td>\n",
       "      <td>979020</td>\n",
       "      <td>Solucion_18</td>\n",
       "      <td>sin dias de atraso</td>\n",
       "      <td>0</td>\n",
       "      <td>7</td>\n",
       "      <td>JUAREZ</td>\n",
       "      <td>0</td>\n",
       "      <td>1</td>\n",
       "      <td>I</td>\n",
       "      <td>I</td>\n",
       "      <td>PL</td>\n",
       "      <td>1</td>\n",
       "      <td>M</td>\n",
       "      <td>14</td>\n",
       "      <td>36</td>\n",
       "      <td>17</td>\n",
       "      <td>1</td>\n",
       "      <td>24</td>\n",
       "      <td>0</td>\n",
       "    </tr>\n",
       "  </tbody>\n",
       "</table>\n",
       "</div>"
      ],
      "text/plain": [
       "   idconsulta     bd  edad estado  age_range  score  nodo  \\\n",
       "0  2550443656  33648    30     EM          2    551    10   \n",
       "1  2538689645  25104    54    CHI          5    551    10   \n",
       "\n",
       "                                           Risk_Code  idcreidit  \\\n",
       "0  Seguir con el proceso Fast Track Monto Máximo ...     990093   \n",
       "1  Seguir con el proceso Fast Track Monto Máximo ...     979020   \n",
       "\n",
       "  Solución Original         Observacion  DEPENDIENTES  Codigo Razón 1  \\\n",
       "0       Solucion_18      atraso credito             0              15   \n",
       "1       Solucion_18  sin dias de atraso             0               7   \n",
       "\n",
       "  delegacionMunicipio tipoDomicilio  \\\n",
       "0           TULTITLAN             H   \n",
       "1              JUAREZ             0   \n",
       "\n",
       "   identificadorSociedadInformacionCrediticia indicadorTipoResponsabilidad  \\\n",
       "0                                           1                            I   \n",
       "1                                           1                            I   \n",
       "\n",
       "  tipoCuenta tipoContrato  numeroPagos frecuenciaPagos  \\\n",
       "0          I           PL            1               M   \n",
       "1          I           PL            1               M   \n",
       "\n",
       "   cuentasRevolventesAbiertas  cuentasCerradas  cuentasNegativasActuales  \\\n",
       "0                           6               89                         1   \n",
       "1                          14               36                        17   \n",
       "\n",
       "   cuentasClavesHistoriaNegativa  numeroSolicitudesUltimos6Meses  \\\n",
       "0                              1                              54   \n",
       "1                              1                              24   \n",
       "\n",
       "   numeroTotalCuentasDespachoCobranza  \n",
       "0                                   0  \n",
       "1                                   0  "
      ]
     },
     "execution_count": 7,
     "metadata": {},
     "output_type": "execute_result"
    }
   ],
   "source": [
    "pd.set_option(\"display.Max_columns\",None)\n",
    "df = pd.read_csv(\"Base para validar IBILLETE.csv\")\n",
    "df.head(2)"
   ]
  },
  {
   "cell_type": "code",
   "execution_count": 15,
   "metadata": {},
   "outputs": [],
   "source": [
    "#Cambiamos las observaciones por datos númericos \n",
    "#df[\"Observacion\"] = np.where(df[\"Observacion\"]==\"atraso credito\",1,0)\n",
    "df.head(2)"
   ]
  },
  {
   "cell_type": "code",
   "execution_count": 18,
   "metadata": {},
   "outputs": [
    {
     "data": {
      "text/plain": [
       "(576, 27)"
      ]
     },
     "execution_count": 18,
     "metadata": {},
     "output_type": "execute_result"
    }
   ],
   "source": [
    "df.shape\n"
   ]
  },
  {
   "cell_type": "code",
   "execution_count": 19,
   "metadata": {},
   "outputs": [
    {
     "name": "stdout",
     "output_type": "stream",
     "text": [
      "Size of train dataframe:  432\n",
      "Size of test dataframe:  144\n"
     ]
    }
   ],
   "source": [
    "df_train,df_test = train_test_split(df, test_size=0.25,random_state=0)\n",
    "print('Size of train dataframe: ', df_train.shape[0])\n",
    "print('Size of test dataframe: ', df_test.shape[0])"
   ]
  },
  {
   "cell_type": "code",
   "execution_count": 20,
   "metadata": {},
   "outputs": [],
   "source": [
    "# Create a flag for label masking\n",
    "df_train['Random_Mask'] = True\n",
    "df_train.loc[df_train.sample(frac=0.05, random_state=0).index, 'Random_Mask'] = False"
   ]
  },
  {
   "cell_type": "code",
   "execution_count": 21,
   "metadata": {},
   "outputs": [],
   "source": [
    "# Create a new target colum with labels. The 1's and 0's are original labels and -1 represents unlabeled (masked) data\n",
    "df_train['Dependents_Target']=df_train.apply(lambda x: x['Observacion'] if x['Random_Mask']==False else -1, axis=1)"
   ]
  },
  {
   "cell_type": "code",
   "execution_count": 23,
   "metadata": {},
   "outputs": [
    {
     "name": "stdout",
     "output_type": "stream",
     "text": [
      "Target Value Distribution:\n",
      "-1    410\n",
      " 0     17\n",
      " 1      5\n",
      "Name: Dependents_Target, dtype: int64\n"
     ]
    }
   ],
   "source": [
    "# Show target value distribution\n",
    "print('Target Value Distribution:')\n",
    "print(df_train['Dependents_Target'].value_counts())"
   ]
  },
  {
   "cell_type": "code",
   "execution_count": 30,
   "metadata": {},
   "outputs": [
    {
     "data": {
      "text/html": [
       "<div>\n",
       "<style scoped>\n",
       "    .dataframe tbody tr th:only-of-type {\n",
       "        vertical-align: middle;\n",
       "    }\n",
       "\n",
       "    .dataframe tbody tr th {\n",
       "        vertical-align: top;\n",
       "    }\n",
       "\n",
       "    .dataframe thead th {\n",
       "        text-align: right;\n",
       "    }\n",
       "</style>\n",
       "<table border=\"1\" class=\"dataframe\">\n",
       "  <thead>\n",
       "    <tr style=\"text-align: right;\">\n",
       "      <th></th>\n",
       "      <th>Observacion</th>\n",
       "      <th>Random_Mask</th>\n",
       "      <th>Dependents_Target</th>\n",
       "    </tr>\n",
       "  </thead>\n",
       "  <tbody>\n",
       "    <tr>\n",
       "      <th>140</th>\n",
       "      <td>0</td>\n",
       "      <td>True</td>\n",
       "      <td>-1</td>\n",
       "    </tr>\n",
       "    <tr>\n",
       "      <th>521</th>\n",
       "      <td>0</td>\n",
       "      <td>True</td>\n",
       "      <td>-1</td>\n",
       "    </tr>\n",
       "    <tr>\n",
       "      <th>404</th>\n",
       "      <td>0</td>\n",
       "      <td>True</td>\n",
       "      <td>-1</td>\n",
       "    </tr>\n",
       "    <tr>\n",
       "      <th>113</th>\n",
       "      <td>1</td>\n",
       "      <td>True</td>\n",
       "      <td>-1</td>\n",
       "    </tr>\n",
       "    <tr>\n",
       "      <th>378</th>\n",
       "      <td>0</td>\n",
       "      <td>True</td>\n",
       "      <td>-1</td>\n",
       "    </tr>\n",
       "    <tr>\n",
       "      <th>...</th>\n",
       "      <td>...</td>\n",
       "      <td>...</td>\n",
       "      <td>...</td>\n",
       "    </tr>\n",
       "    <tr>\n",
       "      <th>277</th>\n",
       "      <td>1</td>\n",
       "      <td>True</td>\n",
       "      <td>-1</td>\n",
       "    </tr>\n",
       "    <tr>\n",
       "      <th>9</th>\n",
       "      <td>1</td>\n",
       "      <td>True</td>\n",
       "      <td>-1</td>\n",
       "    </tr>\n",
       "    <tr>\n",
       "      <th>359</th>\n",
       "      <td>0</td>\n",
       "      <td>True</td>\n",
       "      <td>-1</td>\n",
       "    </tr>\n",
       "    <tr>\n",
       "      <th>192</th>\n",
       "      <td>0</td>\n",
       "      <td>True</td>\n",
       "      <td>-1</td>\n",
       "    </tr>\n",
       "    <tr>\n",
       "      <th>559</th>\n",
       "      <td>1</td>\n",
       "      <td>True</td>\n",
       "      <td>-1</td>\n",
       "    </tr>\n",
       "  </tbody>\n",
       "</table>\n",
       "<p>432 rows × 3 columns</p>\n",
       "</div>"
      ],
      "text/plain": [
       "     Observacion  Random_Mask  Dependents_Target\n",
       "140            0         True                 -1\n",
       "521            0         True                 -1\n",
       "404            0         True                 -1\n",
       "113            1         True                 -1\n",
       "378            0         True                 -1\n",
       "..           ...          ...                ...\n",
       "277            1         True                 -1\n",
       "9              1         True                 -1\n",
       "359            0         True                 -1\n",
       "192            0         True                 -1\n",
       "559            1         True                 -1\n",
       "\n",
       "[432 rows x 3 columns]"
      ]
     },
     "execution_count": 30,
     "metadata": {},
     "output_type": "execute_result"
    }
   ],
   "source": [
    "df_train[[\"Observacion\",\"Random_Mask\",\"Dependents_Target\"]]"
   ]
  },
  {
   "cell_type": "code",
   "execution_count": 67,
   "metadata": {},
   "outputs": [
    {
     "data": {
      "text/plain": [
       "edad                                           int64\n",
       "age_range                                      int64\n",
       "score                                          int64\n",
       "nodo                                           int64\n",
       "DEPENDIENTES                                   int64\n",
       "Codigo Razón 1                                 int64\n",
       "identificadorSociedadInformacionCrediticia     int64\n",
       "indicadorTipoResponsabilidad                  object\n",
       "numeroPagos                                    int64\n",
       "cuentasRevolventesAbiertas                     int64\n",
       "cuentasCerradas                                int64\n",
       "cuentasNegativasActuales                       int64\n",
       "cuentasClavesHistoriaNegativa                  int64\n",
       "numeroSolicitudesUltimos6Meses                 int64\n",
       "numeroTotalCuentasDespachoCobranza             int64\n",
       "dtype: object"
      ]
     },
     "execution_count": 67,
     "metadata": {},
     "output_type": "execute_result"
    }
   ],
   "source": [
    "#df_train.iloc[:,2:7]\n",
    "#df_train.dtypes\n",
    "df_train[[\"edad\",\"age_range\",\"score\",\"nodo\", \"DEPENDIENTES\",\"Codigo Razón 1\",\"identificadorSociedadInformacionCrediticia\",\"indicadorTipoResponsabilidad\",\"numeroPagos\",\"cuentasRevolventesAbiertas\",\"cuentasCerradas\",\"cuentasNegativasActuales\",\"cuentasClavesHistoriaNegativa\",\"numeroSolicitudesUltimos6Meses\",\"numeroTotalCuentasDespachoCobranza\"]].dtypes\t"
   ]
  },
  {
   "cell_type": "code",
   "execution_count": 59,
   "metadata": {},
   "outputs": [],
   "source": [
    "df_train[\"estado\"] = (df_train[\"estado\"]).astype(str)"
   ]
  },
  {
   "cell_type": "code",
   "execution_count": 74,
   "metadata": {},
   "outputs": [
    {
     "name": "stdout",
     "output_type": "stream",
     "text": [
      "---------- SVC Baseline Model - Evaluation on Test Data ----------\n",
      "Accuracy Score:  0.7638888888888888\n",
      "              precision    recall  f1-score   support\n",
      "\n",
      "           0       0.76      1.00      0.87       110\n",
      "           1       0.00      0.00      0.00        34\n",
      "\n",
      "    accuracy                           0.76       144\n",
      "   macro avg       0.38      0.50      0.43       144\n",
      "weighted avg       0.58      0.76      0.66       144\n",
      "\n"
     ]
    },
    {
     "name": "stderr",
     "output_type": "stream",
     "text": [
      "c:\\Users\\RobertoRosasGuerrero\\anaconda3\\lib\\site-packages\\sklearn\\metrics\\_classification.py:1318: UndefinedMetricWarning:\n",
      "\n",
      "Precision and F-score are ill-defined and being set to 0.0 in labels with no predicted samples. Use `zero_division` parameter to control this behavior.\n",
      "\n",
      "c:\\Users\\RobertoRosasGuerrero\\anaconda3\\lib\\site-packages\\sklearn\\metrics\\_classification.py:1318: UndefinedMetricWarning:\n",
      "\n",
      "Precision and F-score are ill-defined and being set to 0.0 in labels with no predicted samples. Use `zero_division` parameter to control this behavior.\n",
      "\n",
      "c:\\Users\\RobertoRosasGuerrero\\anaconda3\\lib\\site-packages\\sklearn\\metrics\\_classification.py:1318: UndefinedMetricWarning:\n",
      "\n",
      "Precision and F-score are ill-defined and being set to 0.0 in labels with no predicted samples. Use `zero_division` parameter to control this behavior.\n",
      "\n"
     ]
    }
   ],
   "source": [
    "########## Step 1 - Data Prep ########## \n",
    "# Select only records with known labels\n",
    "df_train_labeled=df_train[df_train['Dependents_Target']!=-1]\n",
    "\n",
    "# Select data for modeling \n",
    "#,\"estado\",,\"delegacionMunicipio\",\"tipoContrato\",\"frecuenciaPagos\",\"tipoCuenta\",\"tipoDomicilio\",,\"indicadorTipoResponsabilidad\"\n",
    "X_baseline = df_train_labeled[[\"edad\",\"age_range\",\"score\",\"nodo\", \"DEPENDIENTES\",\"Codigo Razón 1\",\"identificadorSociedadInformacionCrediticia\",\"numeroPagos\",\"cuentasRevolventesAbiertas\",\"cuentasCerradas\",\"cuentasNegativasActuales\",\"cuentasClavesHistoriaNegativa\",\"numeroSolicitudesUltimos6Meses\",\"numeroTotalCuentasDespachoCobranza\"]]\n",
    "y_baseline = df_train_labeled['Dependents_Target'].values\n",
    "\n",
    "# Put test data into an array\n",
    "X_test=df_test[[\"edad\",\"age_range\",\"score\",\"nodo\", \"DEPENDIENTES\",\"Codigo Razón 1\",\t\"identificadorSociedadInformacionCrediticia\",\"numeroPagos\",\"cuentasRevolventesAbiertas\",\"cuentasCerradas\",\"cuentasNegativasActuales\",\"cuentasClavesHistoriaNegativa\",\"numeroSolicitudesUltimos6Meses\",\"numeroTotalCuentasDespachoCobranza\"]]\n",
    "y_test=df_test['Observacion'].values\n",
    "\n",
    "\n",
    "########## Step 2 - Model Fitting ########## \n",
    "# Specify SVC model parameters\n",
    "model = SVC(kernel='rbf', #rbf\n",
    "            probability=True, \n",
    "            C=1, # default = 1.0\n",
    "            gamma='scale', # default = 'scale'\n",
    "            random_state=0\n",
    "           )\n",
    "\n",
    "# Fit the model\n",
    "clf = model.fit(X_baseline, y_baseline)\n",
    "\n",
    "\n",
    "########## Step 3 - Model Evaluation ########## \n",
    "# Use score method to get accuracy of the model\n",
    "print('---------- SVC Baseline Model - Evaluation on Test Data ----------')\n",
    "accuracy_score_B = model.score(X_test, y_test)\n",
    "print('Accuracy Score: ', accuracy_score_B)\n",
    "# Look at classification report to evaluate the model\n",
    "print(classification_report(y_test, model.predict(X_test)))"
   ]
  },
  {
   "cell_type": "code",
   "execution_count": 75,
   "metadata": {},
   "outputs": [
    {
     "name": "stdout",
     "output_type": "stream",
     "text": [
      "End of iteration 1, added 410 new labels.\n",
      "\n",
      "---------- Self Training Model - Summary ----------\n",
      "Base Estimator:  SVC(probability=True, random_state=0)\n",
      "Classes:  [0 1]\n",
      "Transduction Labels:  [0 0 0 0 0 0 0 0 0 0 0 0 0 0 0 0 0 0 0 0 0 0 0 0 0 0 0 0 0 0 0 0 0 0 0 0 0\n",
      " 0 0 0 0 0 0 0 0 0 0 0 0 0 0 0 0 0 0 0 0 0 0 0 0 0 0 0 0 0 0 0 0 0 0 0 0 0\n",
      " 0 0 0 0 0 0 0 0 0 0 0 0 0 0 0 0 0 0 0 0 0 0 0 0 0 0 0 0 1 0 0 0 0 0 0 0 0\n",
      " 0 0 0 0 0 0 0 0 0 0 0 0 0 0 0 0 0 0 0 0 0 0 0 0 0 0 0 0 0 0 0 0 0 0 0 0 0\n",
      " 0 0 0 0 0 0 0 0 0 0 0 0 0 0 0 0 0 0 0 0 0 0 0 0 0 0 0 0 0 0 0 0 0 0 0 0 0\n",
      " 0 0 0 0 0 0 0 0 0 0 0 0 0 0 0 0 0 0 0 0 1 0 0 0 0 0 0 0 0 0 0 0 0 0 0 0 0\n",
      " 0 0 0 0 0 0 0 0 0 1 0 0 0 0 0 0 0 0 0 0 0 0 0 0 0 0 0 0 0 0 0 0 0 0 0 0 0\n",
      " 0 0 0 0 0 0 0 0 0 0 0 0 0 0 0 0 0 0 0 0 0 0 0 0 0 0 0 0 0 0 0 0 0 0 0 0 0\n",
      " 0 0 0 0 0 0 0 0 0 0 0 0 0 0 0 0 0 0 0 0 0 0 0 1 0 0 0 0 0 0 0 0 0 0 0 0 0\n",
      " 0 0 0 0 0 0 0 0 0 0 0 0 0 0 0 0 0 1 0 0 0 0 0 0 0 0 0 0 0 0 0 0 0 0 0 0 0\n",
      " 0 0 0 0 0 0 0 0 0 0 0 0 0 0 0 0 0 0 0 0 0 0 0 0 0 0 0 0 0 0 0 0 0 0 0 0 0\n",
      " 0 0 0 0 0 0 0 0 0 0 0 0 0 0 0 0 0 0 0 0 0 0 0 0 0]\n",
      "Number of Features:  14\n",
      "Feature Names:  ['edad' 'age_range' 'score' 'nodo' 'DEPENDIENTES' 'Codigo Razón 1'\n",
      " 'identificadorSociedadInformacionCrediticia' 'numeroPagos'\n",
      " 'cuentasRevolventesAbiertas' 'cuentasCerradas' 'cuentasNegativasActuales'\n",
      " 'cuentasClavesHistoriaNegativa' 'numeroSolicitudesUltimos6Meses'\n",
      " 'numeroTotalCuentasDespachoCobranza']\n",
      "Number of Iterations:  1\n",
      "Termination Condition:  all_labeled\n",
      "\n",
      "---------- Self Training Model - Evaluation on Test Data ----------\n",
      "Accuracy Score:  0.7638888888888888\n",
      "              precision    recall  f1-score   support\n",
      "\n",
      "           0       0.76      1.00      0.87       110\n",
      "           1       0.00      0.00      0.00        34\n",
      "\n",
      "    accuracy                           0.76       144\n",
      "   macro avg       0.38      0.50      0.43       144\n",
      "weighted avg       0.58      0.76      0.66       144\n",
      "\n"
     ]
    },
    {
     "name": "stderr",
     "output_type": "stream",
     "text": [
      "c:\\Users\\RobertoRosasGuerrero\\anaconda3\\lib\\site-packages\\sklearn\\metrics\\_classification.py:1318: UndefinedMetricWarning:\n",
      "\n",
      "Precision and F-score are ill-defined and being set to 0.0 in labels with no predicted samples. Use `zero_division` parameter to control this behavior.\n",
      "\n",
      "c:\\Users\\RobertoRosasGuerrero\\anaconda3\\lib\\site-packages\\sklearn\\metrics\\_classification.py:1318: UndefinedMetricWarning:\n",
      "\n",
      "Precision and F-score are ill-defined and being set to 0.0 in labels with no predicted samples. Use `zero_division` parameter to control this behavior.\n",
      "\n",
      "c:\\Users\\RobertoRosasGuerrero\\anaconda3\\lib\\site-packages\\sklearn\\metrics\\_classification.py:1318: UndefinedMetricWarning:\n",
      "\n",
      "Precision and F-score are ill-defined and being set to 0.0 in labels with no predicted samples. Use `zero_division` parameter to control this behavior.\n",
      "\n"
     ]
    }
   ],
   "source": [
    "########## Step 1 - Data Prep ########## \n",
    "# Select data for modeling - we are including masked (-1) labels this time\n",
    "\n",
    "\n",
    "X_train = df_train[[\"edad\",\"age_range\",\"score\",\"nodo\", \"DEPENDIENTES\",\"Codigo Razón 1\",\"identificadorSociedadInformacionCrediticia\",\"numeroPagos\",\"cuentasRevolventesAbiertas\",\"cuentasCerradas\",\"cuentasNegativasActuales\",\"cuentasClavesHistoriaNegativa\",\"numeroSolicitudesUltimos6Meses\",\"numeroTotalCuentasDespachoCobranza\"]]\n",
    "y_train = df_train['Dependents_Target'].values\n",
    "\n",
    "\n",
    "########## Step 2 - Model Fitting ########## \n",
    "# Specify SVC model parameters\n",
    "model_svc = SVC(kernel='rbf', \n",
    "                probability=True, # Need to enable to be able to use predict_proba\n",
    "                C=1.0, # default = 1.0\n",
    "                gamma='scale', # default = 'scale',\n",
    "                random_state=0\n",
    "               )\n",
    "\n",
    "# Specify Self-Training model parameters\n",
    "self_training_model = SelfTrainingClassifier(base_estimator=model_svc, # An estimator object implementing fit and predict_proba.\n",
    "                                             threshold=0.7, # default=0.75, The decision threshold for use with criterion='threshold'. Should be in [0, 1).\n",
    "                                             criterion='threshold', # {‘threshold’, ‘k_best’}, default=’threshold’, The selection criterion used to select which labels to add to the training set. If 'threshold', pseudo-labels with prediction probabilities above threshold are added to the dataset. If 'k_best', the k_best pseudo-labels with highest prediction probabilities are added to the dataset.\n",
    "                                             #k_best=50, # default=10, The amount of samples to add in each iteration. Only used when criterion='k_best'.\n",
    "                                             max_iter=100, # default=10, Maximum number of iterations allowed. Should be greater than or equal to 0. If it is None, the classifier will continue to predict labels until no new pseudo-labels are added, or all unlabeled samples have been labeled.\n",
    "                                             verbose=True # default=False, Verbosity prints some information after each iteration\n",
    "                                            )\n",
    "\n",
    "# Fit the model\n",
    "clf_ST = self_training_model.fit(X_train, y_train)\n",
    "\n",
    "\n",
    "########## Step 3 - Model Evaluation ########## \n",
    "print('')\n",
    "print('---------- Self Training Model - Summary ----------')\n",
    "print('Base Estimator: ', clf_ST.base_estimator_)\n",
    "print('Classes: ', clf_ST.classes_)\n",
    "print('Transduction Labels: ', clf_ST.transduction_)\n",
    "#print('Iteration When Sample Was Labeled: ', clf_ST.labeled_iter_)\n",
    "print('Number of Features: ', clf_ST.n_features_in_)\n",
    "print('Feature Names: ', clf_ST.feature_names_in_)\n",
    "print('Number of Iterations: ', clf_ST.n_iter_)\n",
    "print('Termination Condition: ', clf_ST.termination_condition_)\n",
    "print('')\n",
    "\n",
    "print('---------- Self Training Model - Evaluation on Test Data ----------')\n",
    "accuracy_score_ST = clf_ST.score(X_test, y_test)\n",
    "print('Accuracy Score: ', accuracy_score_ST)\n",
    "# Look at classification report to evaluate the model\n",
    "print(classification_report(y_test, clf_ST.predict(X_test)))\n"
   ]
  },
  {
   "cell_type": "code",
   "execution_count": null,
   "metadata": {},
   "outputs": [],
   "source": []
  },
  {
   "cell_type": "code",
   "execution_count": null,
   "metadata": {},
   "outputs": [],
   "source": []
  }
 ],
 "metadata": {
  "kernelspec": {
   "display_name": "Python 3.8.8 ('base')",
   "language": "python",
   "name": "python3"
  },
  "language_info": {
   "codemirror_mode": {
    "name": "ipython",
    "version": 3
   },
   "file_extension": ".py",
   "mimetype": "text/x-python",
   "name": "python",
   "nbconvert_exporter": "python",
   "pygments_lexer": "ipython3",
   "version": "3.8.8"
  },
  "orig_nbformat": 4,
  "vscode": {
   "interpreter": {
    "hash": "26dc589a2e6421466be58b757f2befaa3fe97a288a564d2394bb2ba162fa08cb"
   }
  }
 },
 "nbformat": 4,
 "nbformat_minor": 2
}
