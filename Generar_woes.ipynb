{
 "cells": [
  {
   "cell_type": "code",
   "execution_count": 1,
   "metadata": {},
   "outputs": [],
   "source": [
    "import pandas as pd\n",
    "import numpy as np\n",
    "from warnings import filterwarnings\n",
    "filterwarnings('ignore')\n",
    "\n",
    "import sys\n",
    "sys.path.append('C:/Users/JoséEmmanuelParedesR/OneDrive - Exitus Credit/Documentos/SCRIPTS/Scripts_Python')\n",
    "from Funciones_woe import *"
   ]
  },
  {
   "cell_type": "code",
   "execution_count": 15,
   "metadata": {},
   "outputs": [
    {
     "name": "stdout",
     "output_type": "stream",
     "text": [
      "S1\n",
      "Creando WoEs...\n",
      "723\n",
      "WoEs creados\n",
      "Aplicando WoEs... 723 variables a aplicar\n",
      "WoEs aplicados\n",
      "S2\n",
      "Creando WoEs...\n",
      "2460\n",
      "WoEs creados\n",
      "Aplicando WoEs... 2460 variables a aplicar\n",
      "WoEs aplicados\n",
      "S3\n",
      "Creando WoEs...\n",
      "2195\n",
      "WoEs creados\n",
      "Aplicando WoEs... 2195 variables a aplicar\n",
      "WoEs aplicados\n",
      "S4\n",
      "Creando WoEs...\n",
      "3191\n",
      "WoEs creados\n",
      "Aplicando WoEs... 3191 variables a aplicar\n",
      "WoEs aplicados\n"
     ]
    }
   ],
   "source": [
    "lst_segmentos = ['S1', 'S2', 'S3', 'S4']\n",
    "for seg in lst_segmentos:\n",
    "    print(seg)\n",
    "    #base sin woe\n",
    "    df_sn_woe = pd.read_csv(f'ActivoIMSS_AceptadosyRechazados_{seg}_SN_WOE.csv')\n",
    "    df_sn_woe.rename(columns={var: var.replace('.0','') for var in df_sn_woe.columns if '.0' in var}, inplace=True)\n",
    "    #tabla de woe\n",
    "    tabla_woe = woebin(df_sn_woe.iloc[:,1:-5], y = 'BGI')\n",
    "    tabla_woe.to_csv(f'WOE_{seg}_ActivoIMSS_AceptadosyRechazados.csv', index=False)\n",
    "    #base con woe\n",
    "    df_cn_woe = asignar_woes(tabla_woe, df_sn_woe)\n",
    "    df_cn_woe.to_csv(f'ActivoIMSS_AceptadosyRechazados_{seg}_CN_WOE.csv', index=False)"
   ]
  }
 ],
 "metadata": {
  "kernelspec": {
   "display_name": "Python 3.10.5 64-bit",
   "language": "python",
   "name": "python3"
  },
  "language_info": {
   "codemirror_mode": {
    "name": "ipython",
    "version": 3
   },
   "file_extension": ".py",
   "mimetype": "text/x-python",
   "name": "python",
   "nbconvert_exporter": "python",
   "pygments_lexer": "ipython3",
   "version": "3.10.5"
  },
  "orig_nbformat": 4,
  "vscode": {
   "interpreter": {
    "hash": "3e4bc191fa30af4f76ed1b999df05862c7d8cb7c6aaab472395334b0d9df32f1"
   }
  }
 },
 "nbformat": 4,
 "nbformat_minor": 2
}
