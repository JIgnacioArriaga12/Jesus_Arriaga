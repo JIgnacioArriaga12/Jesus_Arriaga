{
 "cells": [
  {
   "cell_type": "code",
   "execution_count": null,
   "metadata": {},
   "outputs": [],
   "source": [
    "# Con las comillas sencillas multiplicadas x 3 hacen que puedas comentar un gran pedazo de codigo\n",
    "# Es importante recordar que una variable puede ser convertida a otro tipo de esta, es decir. Un string puede ser convertido a un entero, a una funcion, etc\n",
    "# f'{}' es el comando utilizado para generar texto con variables en este mismo\n",
    "# Las listas van en []"
   ]
  },
  {
   "cell_type": "code",
   "execution_count": 5,
   "metadata": {},
   "outputs": [],
   "source": [
    "a = {1:9,2:8,3:7,4:6, 5:5}\n",
    "a.get(6)"
   ]
  },
  {
   "cell_type": "code",
   "execution_count": 14,
   "metadata": {},
   "outputs": [],
   "source": [
    "import itertools"
   ]
  },
  {
   "cell_type": "code",
   "execution_count": 15,
   "metadata": {},
   "outputs": [
    {
     "data": {
      "text/plain": [
       "[6, 7, 8, 9, 11, 12, 13, 14]"
      ]
     },
     "execution_count": 15,
     "metadata": {},
     "output_type": "execute_result"
    }
   ],
   "source": [
    "#[i for i in filter(lambda x: x % 5, itertools.islice(itertools.count(5),10))]"
   ]
  },
  {
   "attachments": {},
   "cell_type": "markdown",
   "metadata": {},
   "source": [
    "Ejercicio 1: Crear una funcion que te pregunte la edad y que dependiendo si mide mas que tu lo catalogue como alto y si no como bajo y una tercera en la cual si es igual que diga que estas en el promedio"
   ]
  },
  {
   "attachments": {},
   "cell_type": "markdown",
   "metadata": {},
   "source": [
    "Ejercicio 2: Revisar los codigos de Luis y checar si entiendo todo"
   ]
  },
  {
   "cell_type": "code",
   "execution_count": 12,
   "metadata": {},
   "outputs": [
    {
     "data": {
      "text/plain": [
       "'\\ndef dibujar_ahorcado(intentos):\\n    if intentos == 0:\\n        print(\"________      \")\\n        print(\"|      |      \")\\n        print(\"|             \")\\n        print(\"|             \")\\n        print(\"|             \")\\n        print(\"|             \")\\n    elif intentos == 1:\\n        print(\"________      \")\\n        print(\"|      |      \")\\n        print(\"|      O      \")\\n        print(\"|             \")\\n        print(\"|             \")\\n        print(\"|             \")\\n    elif intentos == 2:\\n        print(\"________      \")\\n        print(\"|      |      \")\\n        print(\"|      O      \")\\n        print(\"|     /       \")\\n        print(\"|             \")\\n        print(\"|             \")\\n    elif intentos == 3:\\n        print(\"________      \")\\n        print(\"|      |      \")\\n        print(\"|      O      \")\\n        print(\"|     /|      \")\\n        print(\"|             \")\\n        print(\"|             \")\\n    elif intentos == 4:\\n        print(\"________      \")\\n        print(\"|      |      \")\\n        print(\"|      O      \")\\n        print(\"|     /|\\\\     \")\\n        print(\"|             \")\\n        print(\"|             \")\\n    elif intentos == 5:\\n        print(\"________      \")\\n        print(\"|      |      \")\\n        print(\"|      O      \")\\n        print(\"|     /|\\\\     \")\\n        print(\"|     /       \")\\n        print(\"|             \")\\n    else:\\n        print(\"________      \")\\n        print(\"|      |      \")\\n        print(\"|      O      \")\\n        print(\"|     /|\\\\     \")\\n        print(\"|     / \\\\     \")\\n        print(\"|             \")\\n\\ndef jugar():\\n    palabra = obtener_palabra()\\n    palabra_oculta = ocultar_palabra(palabra)\\n    intentos = 6\\n\\n    while True:\\n        \\n        imprimir_palabra(palabra_oculta)\\n        \\n        letra = input(\"Ingresa una letra: \").lower()\\n        \\n        if letra in palabra:\\n            for i in range(len(palabra)):\\n                if palabra[i] == letra:\\n                    palabra_oculta[i] = letra\\n            if \"_\" not in palabra_oculta:\\n                imprimir_palabra(palabra_oculta)\\n                dibujar_ahorcado(intentos)\\n                break\\n            else:\\n                continue\\n        else:\\n            intentos -= 1\\n            dibujar_ahorcado(intentos)\\n            if intentos == 0:\\n                break\\n\\njugar()\\n'"
      ]
     },
     "execution_count": 12,
     "metadata": {},
     "output_type": "execute_result"
    }
   ],
   "source": [
    "import random\n",
    "\n",
    "def obtener_palabra():\n",
    "    with open(\"palabras.txt\", \"r\") as f:\n",
    "        palabras = f.readlines()\n",
    "    return random.choice(palabras).strip()\n",
    "\n",
    "def ocultar_palabra(palabra):\n",
    "    return [\"_\" for letra in palabra]\n",
    "\n",
    "def imprimir_palabra(palabra_oculta):\n",
    "    print(\" \".join(palabra_oculta))\n",
    "    \n",
    "def dibujar_ahorcado(intentos):\n",
    "    if intentos == 0:\n",
    "        print(\"________      \")\n",
    "        print(\"|      |      \")\n",
    "        print(\"|             \")\n",
    "        print(\"|             \")\n",
    "        print(\"|             \")\n",
    "        print(\"|             \")\n",
    "    elif intentos == 1:\n",
    "        print(\"________      \")\n",
    "        print(\"|      |      \")\n",
    "        print(\"|      O      \")\n",
    "        print(\"|             \")\n",
    "        print(\"|             \")\n",
    "        print(\"|             \")\n",
    "    elif intentos == 2:\n",
    "        print(\"________      \")\n",
    "        print(\"|      |      \")\n",
    "        print(\"|      O      \")\n",
    "        print(\"|     /       \")\n",
    "        print(\"|             \")\n",
    "        print(\"|             \")\n",
    "    elif intentos == 3:\n",
    "        print(\"________      \")\n",
    "        print(\"|      |      \")\n",
    "        print(\"|      O      \")\n",
    "        print(\"|     /|      \")\n",
    "        print(\"|             \")\n",
    "        print(\"|             \")\n",
    "    elif intentos == 4:\n",
    "        print(\"________      \")\n",
    "        print(\"|      |      \")\n",
    "        print(\"|      O      \")\n",
    "        print(\"|     /|\\\\     \")\n",
    "        print(\"|             \")\n",
    "        print(\"|             \")\n",
    "    elif intentos == 5:\n",
    "        print(\"________      \")\n",
    "        print(\"|      |      \")\n",
    "        print(\"|      O      \")\n",
    "        print(\"|     /|\\\\     \")\n",
    "        print(\"|     /       \")\n",
    "        print(\"|             \")\n",
    "    else:\n",
    "        print(\"________      \")\n",
    "        print(\"|      |      \")\n",
    "        print(\"|      O      \")\n",
    "        print(\"|     /|\\\\     \")\n",
    "        print(\"|     / \\\\     \")\n",
    "        print(\"|             \")\n",
    "\n",
    "def jugar():\n",
    "    palabra = obtener_palabra()\n",
    "    palabra_oculta = ocultar_palabra(palabra)\n",
    "    intentos = 6\n",
    "\n",
    "    while True:\n",
    "        \n",
    "        imprimir_palabra(palabra_oculta)\n",
    "        \n",
    "        letra = input(\"Ingresa una letra: \").lower()\n",
    "        \n",
    "        if letra in palabra:\n",
    "            for i in range(len(palabra)):\n",
    "                if palabra[i] == letra:\n",
    "                    palabra_oculta[i] = letra\n",
    "            if \"_\" not in palabra_oculta:\n",
    "                imprimir_palabra(palabra_oculta)\n",
    "                dibujar_ahorcado(intentos)\n",
    "                break\n",
    "            else:\n",
    "                continue\n",
    "        else:\n",
    "            intentos -= 1\n",
    "            dibujar_ahorcado(intentos)\n",
    "            if intentos == 0:\n",
    "                break\n",
    "\n",
    "jugar()\n"
   ]
  },
  {
   "attachments": {},
   "cell_type": "markdown",
   "metadata": {},
   "source": [
    "# Funciones Lambda"
   ]
  },
  {
   "cell_type": "code",
   "execution_count": 16,
   "metadata": {},
   "outputs": [],
   "source": [
    "X = lambda a,b : a*2 + b*3 \n",
    "X(1,2)"
   ]
  },
  {
   "attachments": {},
   "cell_type": "markdown",
   "metadata": {},
   "source": [
    "# Clase de pyspark"
   ]
  },
  {
   "cell_type": "code",
   "execution_count": 26,
   "metadata": {},
   "outputs": [],
   "source": [
    "#pip install pyspark\n",
    "from pyspark import SparkContext"
   ]
  },
  {
   "cell_type": "code",
   "execution_count": 27,
   "metadata": {},
   "outputs": [],
   "source": [
    "sc = SparkContext"
   ]
  },
  {
   "cell_type": "code",
   "execution_count": 28,
   "metadata": {},
   "outputs": [
    {
     "name": "stdout",
     "output_type": "stream",
     "text": [
      "Overwriting ejemplo.txt\n"
     ]
    }
   ],
   "source": [
    "%%writefile  ejemplo.txt\n",
    "primera linea\n",
    "Segunda linea\n",
    "Tercera linea\n",
    "Cuarta linea"
   ]
  },
  {
   "cell_type": "code",
   "execution_count": 31,
   "metadata": {},
   "outputs": [],
   "source": [
    "textFile = sc.textFile('ejemplo.txt')"
   ]
  }
 ],
 "metadata": {
  "kernelspec": {
   "display_name": "Python 3",
   "language": "python",
   "name": "python3"
  },
  "language_info": {
   "codemirror_mode": {
    "name": "ipython",
    "version": 3
   },
   "file_extension": ".py",
   "mimetype": "text/x-python",
   "name": "python",
   "nbconvert_exporter": "python",
   "pygments_lexer": "ipython3",
   "version": "3.11.3"
  },
  "orig_nbformat": 4
 },
 "nbformat": 4,
 "nbformat_minor": 2
}
